{
 "cells": [
  {
   "cell_type": "markdown",
   "id": "c55b33be-98be-4c48-99de-99e5e2ec163d",
   "metadata": {},
   "source": [
    "# Bedrock Agents\n",
    "\n",
    "> *This notebook should work well with the **`Data Science 3.0`** kernel in SageMaker Studio*"
   ]
  },
  {
   "cell_type": "markdown",
   "id": "9d7392ac-61be-4b9b-bc7b-f48de8282c7b",
   "metadata": {},
   "source": [
    "## Introduction\n",
    "\n",
    "In this notebook we show you how to use the `bedrock-agent` and the `bedrock-agent-runtime` boto3 clients to:\n",
    "- create an pool & silo agent \n",
    "- create and action group for pool & silo agent\n",
    "- associate the pool & silo agent with the action group and prepare the agents\n",
    "- create an agent alias for pool & silo agent\n",
    "- invoke the pool & silo agent\n",
    "\n",
    "We will use Bedrock's Claude v2.1 using the Boto3 API. \n",
    "\n",
    "**Note:** *Running through this notebook will incur you AWS cost through the provisioned resources and through interaction with LLM.*\n",
    "\n",
    "#### Pre-requisites\n",
    "This notebook requires permissions to: \n",
    "- create and delete Amazon IAM roles\n",
    "- create, update and invoke AWS Lambda functions \n",
    "- create, update and delete Amazon S3 buckets \n",
    "- access Amazon Bedrock \n",
    "\n",
    "If you are running this notebook without an Admin role, make sure that your role include the following managed policies:\n",
    "- IAMFullAccess\n",
    "- AWSLambda_FullAccess\n",
    "- AmazonS3FullAccess\n",
    "- AmazonDynamoDBFullAccess\n",
    "- AmazonBedrockFullAccess\n",
    "\n"
   ]
  },
  {
   "cell_type": "markdown",
   "id": "5463f03b-7f8b-4a95-a7c8-0caa46d6ae4b",
   "metadata": {},
   "source": [
    "## Notebook setup\n",
    "Before starting, let's import the required packages and configure the support variables"
   ]
  },
  {
   "cell_type": "code",
   "execution_count": null,
   "id": "17fac28b-a14d-4982-873b-7f788dfbb477",
   "metadata": {
    "tags": []
   },
   "outputs": [],
   "source": [
    "! pip install --upgrade boto3\n",
    "! pip show boto3"
   ]
  },
  {
   "cell_type": "code",
   "execution_count": null,
   "id": "1b5428e2-37d0-4199-a234-33521ec995ad",
   "metadata": {
    "tags": []
   },
   "outputs": [],
   "source": [
    "import logging\n",
    "import boto3\n",
    "import random\n",
    "import time\n",
    "import zipfile\n",
    "from io import BytesIO\n",
    "import json\n",
    "import uuid\n",
    "import pprint"
   ]
  },
  {
   "cell_type": "code",
   "execution_count": null,
   "id": "ea10158d-adb7-463e-ae3e-df72da6e850b",
   "metadata": {
    "tags": []
   },
   "outputs": [],
   "source": [
    "# setting logger\n",
    "logging.basicConfig(format='[%(asctime)s] p%(process)s {%(filename)s:%(lineno)d} %(levelname)s - %(message)s', level=logging.INFO)\n",
    "logger = logging.getLogger(__name__)"
   ]
  },
  {
   "cell_type": "code",
   "execution_count": null,
   "id": "be67a917-11f8-43a0-a8d5-1b379ec77119",
   "metadata": {
    "tags": []
   },
   "outputs": [],
   "source": [
    "# getting boto3 clients for required AWS services\n",
    "sts_client = boto3.client('sts')\n",
    "iam_client = boto3.client('iam')\n",
    "s3_client = boto3.client('s3')\n",
    "lambda_client = boto3.client('lambda')\n",
    "bedrock_agent_client = boto3.client('bedrock-agent')\n",
    "bedrock_agent_runtime_client = boto3.client('bedrock-agent-runtime')\n",
    "dynamodb_client = boto3.client('dynamodb')"
   ]
  },
  {
   "cell_type": "code",
   "execution_count": null,
   "id": "acfd85b8-4a47-4da9-bdd6-2ac38c1e3803",
   "metadata": {
    "tags": []
   },
   "outputs": [],
   "source": [
    "session = boto3.session.Session()\n",
    "region = session.region_name\n",
    "account_id = sts_client.get_caller_identity()[\"Account\"]\n",
    "region, account_id"
   ]
  },
  {
   "cell_type": "code",
   "execution_count": null,
   "id": "6501bd5f-2b77-42d6-9662-6cc5b5b5642b",
   "metadata": {
    "tags": []
   },
   "outputs": [],
   "source": [
    "# Generate random prefix for unique IAM roles, agent name and S3 Bucket and \n",
    "# assign variables\n",
    "suffix = f\"{region}-{account_id}\"\n",
    "pool_agent_name = \"pool-app-svcs-agent\"\n",
    "pool_agent_alias_name = \"pool-agent-alias\"\n",
    "silo_agent_name = \"silo-app-svcs-agent\"\n",
    "silo_agent_alias_name = \"silo-agent-alias\"\n",
    "\n",
    "\n",
    "bucket_name = f'{pool_agent_name}-{suffix}'\n",
    "bucket_key = f'{pool_agent_name}-schema.json'\n",
    "schema_name = 'app_services_agent_openapi_schema.json'\n",
    "schema_arn = f'arn:aws:s3:::{bucket_name}/{bucket_key}'\n",
    "bedrock_agent_bedrock_allow_policy_name = f\"agents-allow-{suffix}\"\n",
    "bedrock_agent_s3_allow_policy_name = f\"agents-s3-allow-{suffix}\"\n",
    "\n",
    "\n",
    "pool_agent_lambda_role_name = f'{pool_agent_name}-lambda-role-{suffix}'\n",
    "pool_agent_role_name = f'AmazonBedrockExecutionRoleForAgents_pool_svcs'\n",
    "pool_agent_lambda_code_path = \"pool_agent_lambda_function.py\"\n",
    "pool_agent_lambda_name = f'{pool_agent_name}-{suffix}'\n",
    "\n",
    "silo_agent_lambda_role_name = f'{silo_agent_name}-lambda-role-{suffix}'\n",
    "silo_agent_role_name = f'AmazonBedrockExecutionRoleForAgents_silo_svcs'\n",
    "silo_agent_lambda_code_path = \"silo_agent_lambda_function.py\"\n",
    "silo_agent_lambda_name = f'{silo_agent_name}-{suffix}'"
   ]
  },
  {
   "cell_type": "markdown",
   "id": "03c964ba-6f6f-4e4b-a654-b09e54a3cd58",
   "metadata": {},
   "source": [
    "### Create S3 bucket and upload API Schema\n",
    "\n",
    "Agents require an API Schema stored on s3. Let's create an S3 bucket to store the file and upload the file to the newly created bucket"
   ]
  },
  {
   "cell_type": "code",
   "execution_count": null,
   "id": "70aac712-e1e9-4761-9ed2-92181cb65a11",
   "metadata": {
    "tags": []
   },
   "outputs": [],
   "source": [
    "# Create S3 bucket for Open API schema\n",
    "s3bucket = s3_client.create_bucket(\n",
    "    Bucket=bucket_name\n",
    ")"
   ]
  },
  {
   "cell_type": "code",
   "execution_count": null,
   "id": "159ff709-acdc-4174-9b5a-7fab8e0408df",
   "metadata": {
    "tags": []
   },
   "outputs": [],
   "source": [
    "# Upload Open API schema to this s3 bucket\n",
    "s3_client.upload_file(schema_name, bucket_name, bucket_key)"
   ]
  },
  {
   "cell_type": "markdown",
   "id": "e51017b0-70e3-4f46-9725-03aecdd208e7",
   "metadata": {},
   "source": [
    "# Pool Agent"
   ]
  },
  {
   "cell_type": "markdown",
   "id": "2b529acf-21f2-4672-821f-2dfe1b36eef9",
   "metadata": {},
   "source": [
    "### Create pool DynamoDB tables"
   ]
  },
  {
   "cell_type": "code",
   "execution_count": null,
   "id": "2dd51f1a-977e-4396-81af-65c19c290450",
   "metadata": {
    "tags": []
   },
   "outputs": [],
   "source": [
    "pool_product_table = 'pool-product-table'\n",
    "pool_order_table = 'pool-order-table'\n",
    "\n",
    "\n",
    "pool_product_table_schema = [\n",
    "    {\n",
    "        'AttributeName': 'tenantId',  \n",
    "        'AttributeType': 'S',      \n",
    "    },\n",
    "    {\n",
    "        'AttributeName': 'productId',  \n",
    "        'AttributeType': 'S',           \n",
    "    },\n",
    "]\n",
    "\n",
    "pool_order_table_schema = [\n",
    "    {\n",
    "        'AttributeName': 'tenantId',  \n",
    "        'AttributeType': 'S',      \n",
    "    },\n",
    "    {\n",
    "        'AttributeName': 'orderId',  \n",
    "        'AttributeType': 'S',           \n",
    "    },\n",
    "]\n",
    "\n",
    "\n",
    "pool_product_key_schema = [\n",
    "    {\n",
    "        'AttributeName': 'tenantId',  \n",
    "        'KeyType': 'HASH',         \n",
    "    },\n",
    "    {\n",
    "        'AttributeName': 'productId', \n",
    "        'KeyType': 'RANGE',            \n",
    "    }\n",
    "]\n",
    "\n",
    "pool_order_key_schema = [\n",
    "    {\n",
    "        'AttributeName': 'tenantId',  \n",
    "        'KeyType': 'HASH',         \n",
    "    },\n",
    "    {\n",
    "        'AttributeName': 'orderId', \n",
    "        'KeyType': 'RANGE',            \n",
    "    }\n",
    "]\n",
    "\n",
    "\n",
    "provisioned_throughput = {\n",
    "    'ReadCapacityUnits': 5,   \n",
    "    'WriteCapacityUnits': 5   \n",
    "}\n",
    "\n",
    "pool_product_table_response = dynamodb_client.create_table(\n",
    "    TableName=pool_product_table,\n",
    "    AttributeDefinitions=pool_product_table_schema,\n",
    "    KeySchema=pool_product_key_schema,\n",
    "    ProvisionedThroughput=provisioned_throughput\n",
    ")\n",
    "\n",
    "pool_product_table_arn = pool_product_table_response['TableDescription']['TableArn']\n",
    "\n",
    "print(f\"Table {pool_product_table} created. Status: {pool_product_table_response['TableDescription']['TableArn']}\")\n",
    "\n",
    "pool_order_table_response = dynamodb_client.create_table(\n",
    "    TableName=pool_order_table,\n",
    "    AttributeDefinitions=pool_order_table_schema,\n",
    "    KeySchema=pool_order_key_schema,\n",
    "    ProvisionedThroughput=provisioned_throughput\n",
    ")\n",
    "\n",
    "pool_order_table_arn = pool_order_table_response['TableDescription']['TableArn']\n",
    "\n",
    "print(f\"Table {pool_order_table} created. Status: {pool_order_table_response['TableDescription']['TableArn']}\")\n"
   ]
  },
  {
   "cell_type": "markdown",
   "id": "82e44431-7532-491e-b3a5-0094f3a07451",
   "metadata": {},
   "source": [
    "### Create ABAC role - assumed in runtime"
   ]
  },
  {
   "cell_type": "code",
   "execution_count": null,
   "id": "f534b241-07cd-4ed7-b57a-0aa1a164c5a9",
   "metadata": {
    "tags": []
   },
   "outputs": [],
   "source": [
    "try:\n",
    "    app_assume_role_policy_document = {\n",
    "    \"Version\": \"2012-10-17\",\n",
    "    \"Statement\": [\n",
    "        {\n",
    "            \"Effect\": \"Allow\",\n",
    "            \"Principal\": {\n",
    "                \"AWS\": [\n",
    "                    sts_client.get_caller_identity()[\"Arn\"]\n",
    "                ]\n",
    "            },\n",
    "            \"Action\": [\n",
    "                \"sts:AssumeRole\",\n",
    "                \"sts:TagSession\"\n",
    "            ],\n",
    "            \"Condition\": {\n",
    "                \"StringLike\": {\n",
    "                    \"aws:RequestTag/TenantId\": \"*\"\n",
    "                }\n",
    "            }\n",
    "        }\n",
    "    ]\n",
    "}\n",
    "\n",
    "    app_assume_role_policy_document_json = json.dumps(app_assume_role_policy_document)\n",
    "\n",
    "    app_lambda_assume_role = iam_client.create_role(\n",
    "        RoleName='app-assume-role',\n",
    "        AssumeRolePolicyDocument=app_assume_role_policy_document_json\n",
    "    )\n",
    "\n",
    "    # Pause to make sure role is created\n",
    "    time.sleep(10)\n",
    "except:\n",
    "    app_lambda_assume_role = iam_client.get_role(RoleName='app-assume-role')\n",
    "\n",
    "    \n",
    "    \n",
    "iam_client.put_role_policy(\n",
    "    RoleName='app-assume-role',\n",
    "    PolicyName='app-policy',\n",
    "    PolicyDocument='{\"Version\": \"2012-10-17\",\"Statement\": [{\"Sid\": \"VisualEditor0\",\"Effect\": \"Allow\",\"Action\": [\"dynamodb:PutItem\",\"dynamodb:GetItem\",\"dynamodb:Query\"],\"Resource\": [\"'+pool_product_table_arn+'\",\"'+pool_order_table_arn+'\"],\"Condition\": {\"ForAllValues:StringEquals\": {\"dynamodb:LeadingKeys\": [\"${aws:PrincipalTag/TenantId}\"]}}}]}'\n",
    ")\n"
   ]
  },
  {
   "cell_type": "markdown",
   "id": "ca46ab2f-f5a3-484b-9720-b3d586f47308",
   "metadata": {},
   "source": [
    "### Create Lambda function for Action Group\n",
    "Let's now create the lambda function required by the agent action group. We first need to create the lambda IAM role and it's policy. After that, we package the lambda function into a ZIP format to create the function"
   ]
  },
  {
   "cell_type": "code",
   "execution_count": null,
   "id": "55b4269a-9781-4efd-b7c6-9dcb222541ac",
   "metadata": {},
   "outputs": [],
   "source": [
    "# Create IAM Role for the Lambda function\n",
    "try:\n",
    "    assume_role_policy_document = {\n",
    "        \"Version\": \"2012-10-17\",\n",
    "        \"Statement\": [\n",
    "            {\n",
    "                \"Effect\": \"Allow\",\n",
    "                \"Action\": \"bedrock:InvokeModel\",\n",
    "                \"Principal\": {\n",
    "                    \"Service\": \"lambda.amazonaws.com\"\n",
    "                },\n",
    "                \"Action\": \"sts:AssumeRole\"\n",
    "            }\n",
    "        ]\n",
    "    }\n",
    "\n",
    "    assume_role_policy_document_json = json.dumps(assume_role_policy_document)\n",
    "\n",
    "    pool_agent_lambda_iam_role = iam_client.create_role(\n",
    "        RoleName=pool_agent_lambda_role_name,\n",
    "        AssumeRolePolicyDocument=assume_role_policy_document_json\n",
    "    )\n",
    "\n",
    "    # Pause to make sure role is created\n",
    "    time.sleep(10)\n",
    "except:\n",
    "    pool_agent_lambda_iam_role = iam_client.get_role(RoleName=pool_agent_lambda_role_name)\n",
    "\n",
    "iam_client.attach_role_policy(\n",
    "    RoleName=pool_agent_lambda_role_name,\n",
    "    PolicyArn='arn:aws:iam::aws:policy/service-role/AWSLambdaBasicExecutionRole'\n",
    ")\n"
   ]
  },
  {
   "cell_type": "code",
   "execution_count": null,
   "id": "f8b0dbc2-9c36-4f0a-8701-472f7c162a65",
   "metadata": {
    "tags": []
   },
   "outputs": [],
   "source": [
    "# Package up the lambda function code\n",
    "s = BytesIO()\n",
    "z = zipfile.ZipFile(s, 'w')\n",
    "z.write(pool_agent_lambda_code_path)\n",
    "z.close()\n",
    "zip_content = s.getvalue()\n",
    "\n",
    "# Create Lambda Function\n",
    "pool_lambda_function = lambda_client.create_function(\n",
    "    FunctionName=pool_agent_lambda_name,\n",
    "    Runtime='python3.12',\n",
    "    Timeout=180,\n",
    "    Role=pool_agent_lambda_iam_role['Role']['Arn'],\n",
    "    Code={'ZipFile': zip_content},\n",
    "    Handler='pool_agent_lambda_function.lambda_handler'\n",
    ")"
   ]
  },
  {
   "cell_type": "markdown",
   "id": "ded8e395-f8b7-4a64-9bb4-ac3f7dc8742a",
   "metadata": {},
   "source": [
    "### Create Agent\n",
    "We will now create our agent. To do so, we first need to create the agent policies that allow bedrock model invocation  and s3 bucket access. "
   ]
  },
  {
   "cell_type": "code",
   "execution_count": null,
   "id": "1d627d18-35f4-4752-9960-9d2ccf4f48f0",
   "metadata": {
    "tags": []
   },
   "outputs": [],
   "source": [
    "# Create IAM policies for agent\n",
    "\n",
    "bedrock_agent_bedrock_allow_policy_statement = {\n",
    "    \"Version\": \"2012-10-17\",\n",
    "    \"Statement\": [\n",
    "        {\n",
    "            \"Sid\": \"AmazonBedrockAgentBedrockFoundationModelPolicy\",\n",
    "            \"Effect\": \"Allow\",\n",
    "            \"Action\": \"bedrock:InvokeModel\",\n",
    "            \"Resource\": [\n",
    "                f\"arn:aws:bedrock:{region}::foundation-model/anthropic.claude-v2:1\"\n",
    "            ]\n",
    "        }\n",
    "    ]\n",
    "}\n",
    "\n",
    "bedrock_policy_json = json.dumps(bedrock_agent_bedrock_allow_policy_statement)\n",
    "\n",
    "agent_bedrock_policy = iam_client.create_policy(\n",
    "    PolicyName=bedrock_agent_bedrock_allow_policy_name,\n",
    "    PolicyDocument=bedrock_policy_json\n",
    ")\n",
    "\n"
   ]
  },
  {
   "cell_type": "code",
   "execution_count": null,
   "id": "55ff92f7-e525-4d28-87ca-c3b262d0ddd0",
   "metadata": {
    "tags": []
   },
   "outputs": [],
   "source": [
    "bedrock_agent_s3_allow_policy_statement = {\n",
    "    \"Version\": \"2012-10-17\",\n",
    "    \"Statement\": [\n",
    "        {\n",
    "            \"Sid\": \"AllowAgentAccessOpenAPISchema\",\n",
    "            \"Effect\": \"Allow\",\n",
    "            \"Action\": [\"s3:GetObject\"],\n",
    "            \"Resource\": [\n",
    "                schema_arn\n",
    "            ]\n",
    "        }\n",
    "    ]\n",
    "}\n",
    "\n",
    "\n",
    "bedrock_agent_s3_json = json.dumps(bedrock_agent_s3_allow_policy_statement)\n",
    "agent_s3_schema_policy = iam_client.create_policy(\n",
    "    PolicyName=bedrock_agent_s3_allow_policy_name,\n",
    "    Description=f\"Policy to allow invoke Lambda that was provisioned for it.\",\n",
    "    PolicyDocument=bedrock_agent_s3_json\n",
    ")"
   ]
  },
  {
   "cell_type": "code",
   "execution_count": null,
   "id": "f1148115-bcc3-4e5b-ba58-f8946679036d",
   "metadata": {
    "tags": []
   },
   "outputs": [],
   "source": [
    "# Create IAM Role for the agent and attach IAM policies\n",
    "assume_role_policy_document = {\n",
    "    \"Version\": \"2012-10-17\",\n",
    "    \"Statement\": [{\n",
    "          \"Effect\": \"Allow\",\n",
    "          \"Principal\": {\n",
    "            \"Service\": \"bedrock.amazonaws.com\"\n",
    "          },\n",
    "          \"Action\": \"sts:AssumeRole\"\n",
    "    }]\n",
    "}\n",
    "\n",
    "assume_role_policy_document_json = json.dumps(assume_role_policy_document)\n",
    "pool_agent_role = iam_client.create_role(\n",
    "    RoleName=pool_agent_role_name,\n",
    "    AssumeRolePolicyDocument=assume_role_policy_document_json\n",
    ")\n",
    "\n",
    "# Pause to make sure role is created\n",
    "time.sleep(10)\n",
    "    \n",
    "iam_client.attach_role_policy(\n",
    "    RoleName=pool_agent_role_name,\n",
    "    PolicyArn=agent_bedrock_policy['Policy']['Arn']\n",
    ")\n",
    "\n",
    "iam_client.attach_role_policy(\n",
    "    RoleName=pool_agent_role_name,\n",
    "    PolicyArn=agent_s3_schema_policy['Policy']['Arn']\n",
    ")"
   ]
  },
  {
   "cell_type": "markdown",
   "id": "96b86215-bc3d-47f6-a98c-6f96c513d886",
   "metadata": {},
   "source": [
    "#### Creating Pool Agent\n",
    "Once the needed IAM role is created, we can use the bedrock agent client to create a new agent. To do so we use the `create_agent` function. It requires an agent name, underline foundation model and instruction. You can also provide an agent description. Note that the agent created is not yet prepared. We will focus on preparing the agent and then using it to invoke actions and use other APIs"
   ]
  },
  {
   "cell_type": "code",
   "execution_count": null,
   "id": "e1d7c63b-6bc0-4b48-a5c0-2db24fa5a21e",
   "metadata": {},
   "outputs": [],
   "source": [
    "# Create Agent\n",
    "\n",
    "\n",
    "pool_agent_instruction = \"\"\"\n",
    "You are an agent that helps customers to create products and orders. You can\n",
    "1/create a product with provided product name and product price\n",
    "2/get all products details\n",
    "3/get a product detail using product id provided by the customer\n",
    "4/create a order for a product using product id and quantity provided by the customer\n",
    "5/get all orders details\n",
    "If no clear instruction are provided, if an customer asks about your functionality, provide guidance in natural language \n",
    "and do not include function names on the output.\n",
    "\"\"\"\n",
    "\n",
    "response = bedrock_agent_client.create_agent(\n",
    "    agentName=pool_agent_name,\n",
    "    agentResourceRoleArn=pool_agent_role['Role']['Arn'],\n",
    "    description=\"Agent for handling app requests.\",\n",
    "    idleSessionTTLInSeconds=1800,\n",
    "    foundationModel=\"anthropic.claude-v2:1\",\n",
    "    instruction=pool_agent_instruction,\n",
    ")"
   ]
  },
  {
   "cell_type": "markdown",
   "id": "aa89ac0d-b1af-4efa-bbb8-59a8f486a622",
   "metadata": {},
   "source": [
    "Looking at the created agent, we can see its status and agent id"
   ]
  },
  {
   "cell_type": "code",
   "execution_count": null,
   "id": "0eef5588-1f7f-4d94-8a10-3eb8ecf316d1",
   "metadata": {
    "tags": []
   },
   "outputs": [],
   "source": [
    "response"
   ]
  },
  {
   "cell_type": "markdown",
   "id": "780ce247-ff4c-4ecf-8558-222581d2ea52",
   "metadata": {},
   "source": [
    "Let's now store the agent id in a local variable to use it on the next steps"
   ]
  },
  {
   "cell_type": "code",
   "execution_count": null,
   "id": "4d2bf0ea-5c5c-4afc-9b4d-19158b48bb50",
   "metadata": {
    "tags": []
   },
   "outputs": [],
   "source": [
    "pool_agent_id = response['agent']['agentId']\n",
    "pool_agent_id"
   ]
  },
  {
   "cell_type": "markdown",
   "id": "32158234-b474-4bfa-8efd-afe5aa087df8",
   "metadata": {},
   "source": [
    "### Create Agent Action Group\n",
    "We will now create and agent action group that uses the lambda function and API schema files created before.\n",
    "The `create_agent_action_group` function provides this functionality. We will use `DRAFT` as the agent version since we haven't yet create an agent version or alias. To inform the agent about the action group functionalities, we will provide an action group description containing the functionalities of the action group."
   ]
  },
  {
   "cell_type": "code",
   "execution_count": null,
   "id": "ca4dd6c1-5151-4846-ac75-e8b23e299a90",
   "metadata": {
    "tags": []
   },
   "outputs": [],
   "source": [
    "# Pause to make sure agent is created\n",
    "time.sleep(30)\n",
    "# Now, we can configure and create an action group here:\n",
    "pool_agent_action_group_response = bedrock_agent_client.create_agent_action_group(\n",
    "    agentId=pool_agent_id,\n",
    "    agentVersion='DRAFT',\n",
    "    actionGroupExecutor={\n",
    "        'lambda': pool_lambda_function['FunctionArn']\n",
    "    },\n",
    "    actionGroupName='PoolAppServicesActionGroup', \n",
    "    apiSchema={\n",
    "        's3': {\n",
    "            's3BucketName': bucket_name,\n",
    "            's3ObjectKey': bucket_key\n",
    "        }\n",
    "    },\n",
    "    description='Actions for creating product, get products, get a product, create order and get orders'\n",
    ")"
   ]
  },
  {
   "cell_type": "code",
   "execution_count": null,
   "id": "74945f90-4777-40da-bc5e-ca0b31fdbb6b",
   "metadata": {
    "tags": []
   },
   "outputs": [],
   "source": [
    "pool_agent_action_group_response"
   ]
  },
  {
   "cell_type": "markdown",
   "id": "04586a08-764b-499a-a52a-5b199b061890",
   "metadata": {},
   "source": [
    "### Allowing Agent to invoke Action Group Lambda\n",
    "Before using our action group, we need to allow our agent to invoke the lambda function associated to the action group. This is done via resource-based policy. Let's add the resource-based policy to the lambda function created"
   ]
  },
  {
   "cell_type": "code",
   "execution_count": null,
   "id": "33555ead-bc3c-420b-b0fd-ee644863ce57",
   "metadata": {
    "tags": []
   },
   "outputs": [],
   "source": [
    "# Create allow invoke permission on lambda\n",
    "response = lambda_client.add_permission(\n",
    "    FunctionName=pool_agent_lambda_name,\n",
    "    StatementId='allow_bedrock',\n",
    "    Action='lambda:InvokeFunction',\n",
    "    Principal='bedrock.amazonaws.com',\n",
    "    SourceArn=f\"arn:aws:bedrock:{region}:{account_id}:agent/{pool_agent_id}\",\n",
    ")"
   ]
  },
  {
   "cell_type": "markdown",
   "id": "c449b466-3d92-49e7-aef2-168c8f669c40",
   "metadata": {},
   "source": [
    "### Preparing Agent\n",
    "Let's create a DRAFT version of the agent that can be used for internal testing."
   ]
  },
  {
   "cell_type": "code",
   "execution_count": null,
   "id": "37a8d75d-9661-4b4f-95af-c3ab05e00b75",
   "metadata": {
    "tags": []
   },
   "outputs": [],
   "source": [
    "pool_agent_prepare = bedrock_agent_client.prepare_agent(agentId=pool_agent_id)\n",
    "pool_agent_prepare"
   ]
  },
  {
   "cell_type": "markdown",
   "id": "092dc0d0-3597-4ec2-8959-e1c968c9670b",
   "metadata": {},
   "source": [
    "### Create Agent alias\n",
    "We will now create an alias of the agent that can be used to deploy the agent."
   ]
  },
  {
   "cell_type": "code",
   "execution_count": null,
   "id": "3f93af07-ac4b-45a0-89b5-7a90929df6f5",
   "metadata": {
    "tags": []
   },
   "outputs": [],
   "source": [
    "# Pause to make sure agent is prepared\n",
    "time.sleep(30)\n",
    "pool_agent_alias = bedrock_agent_client.create_agent_alias(\n",
    "    agentId=pool_agent_id,\n",
    "    agentAliasName=pool_agent_alias_name\n",
    ")"
   ]
  },
  {
   "cell_type": "code",
   "execution_count": null,
   "id": "35de5613-638c-4f04-88e0-6fc9689b5f5d",
   "metadata": {
    "tags": []
   },
   "outputs": [],
   "source": [
    "pool_agent_alias"
   ]
  },
  {
   "cell_type": "code",
   "execution_count": null,
   "id": "afbdb894-f1e7-41ce-a26f-319e8caa8419",
   "metadata": {
    "tags": []
   },
   "outputs": [],
   "source": [
    "def get_temporary_credentials(tenantId):\n",
    "    \n",
    "    app_lambda_assume_role = iam_client.get_role(RoleName='app-assume-role')\n",
    "\n",
    "    assume_role_response = sts_client.assume_role(\n",
    "            RoleArn=app_lambda_assume_role['Role']['Arn'],\n",
    "            DurationSeconds=900,\n",
    "            RoleSessionName=\"tenant\",\n",
    "            Tags=[{\"Key\": \"TenantId\", \"Value\": tenantId}]\n",
    "    )\n",
    "\n",
    "\n",
    "    return {\n",
    "    \n",
    "        'accessKeyId': assume_role_response[\"Credentials\"][\"AccessKeyId\"],\n",
    "        'secretAccessKey': assume_role_response[\"Credentials\"][\"SecretAccessKey\"],\n",
    "        'sessionToken': assume_role_response[\"Credentials\"][\"SessionToken\"]\n",
    "\n",
    "    }"
   ]
  },
  {
   "cell_type": "code",
   "execution_count": null,
   "id": "72704258-6a1a-44f6-b442-7b80466d0f53",
   "metadata": {},
   "outputs": [],
   "source": [
    "# Method to capture agent response and metrics\n",
    "def capture_metrics(agentResponse, tenantId):\n",
    "    event_stream = agentResponse['completion']\n",
    "    try:\n",
    "        for event in event_stream:        \n",
    "            if 'chunk' in event:\n",
    "                data = event['chunk']['bytes']\n",
    "                logger.info(f\"Final answer ->\\n{data.decode('utf8')}\")\n",
    "                agent_answer = data.decode('utf8')\n",
    "                end_event_received = True\n",
    "                # End event indicates that the request finished successfully\n",
    "            elif 'trace' in event:\n",
    "                trace_json = event['trace']['trace']\n",
    "                stage =''\n",
    "                # uncomment below line to get detailed tracing messages\n",
    "                # logger.info(json.dumps(event['trace'], indent=2))\n",
    "                if 'preProcessingTrace' in trace_json:\n",
    "                    trace_json = trace_json['preProcessingTrace']\n",
    "                    stage = 'preProcessingTrace'\n",
    "                elif 'orchestrationTrace' in trace_json:\n",
    "                    trace_json = trace_json['orchestrationTrace']\n",
    "                    stage = 'orchestrationTrace'\n",
    "                elif 'postProcessingTrace' in trace_json:\n",
    "                    trace_json = trace_json['postProcessingTrace']\n",
    "                    stage = 'postProcessingTrace'\n",
    "\n",
    "\n",
    "\n",
    "                if  'modelInvocationOutput' in trace_json and \\\n",
    "                    'metadata' in trace_json[\"modelInvocationOutput\"] and \\\n",
    "                    \"usage\" in trace_json[\"modelInvocationOutput\"][\"metadata\"] :\n",
    "                    print(f'stage: {stage} tenantId: {tenantId} inputTokens: {trace_json[\"modelInvocationOutput\"][\"metadata\"][\"usage\"][\"inputTokens\"]}')\n",
    "                    print(f'stage: {stage} tenantId: {tenantId} outputTokens: {trace_json[\"modelInvocationOutput\"][\"metadata\"][\"usage\"][\"outputTokens\"]}')\n",
    "                # else:\n",
    "                    # print(\"usage attribute is not present.\")\n",
    "\n",
    "\n",
    "            else:\n",
    "                raise Exception(\"unexpected event.\", event)\n",
    "    except Exception as e:\n",
    "        raise Exception(\"unexpected event.\", e)"
   ]
  },
  {
   "cell_type": "markdown",
   "id": "ada2844c-04fd-4dfc-a87d-0a668afb8f82",
   "metadata": {},
   "source": [
    "## Invoke Agent\n",
    "Now that we've created the agent, let's use the `bedrock-agent-runtime` client to invoke this agent and perform some tasks."
   ]
  },
  {
   "cell_type": "code",
   "execution_count": null,
   "id": "7e8e6b4e-cedd-40d4-99cc-0909a7e22290",
   "metadata": {},
   "outputs": [],
   "source": [
    "def invoke_pool_agent(tenantId, task_input_text):\n",
    "    pool_agent_alias_id = pool_agent_alias['agentAlias']['agentAliasId']\n",
    "\n",
    "    ## create a random id for session initiator id\n",
    "    session_id:str = str(uuid.uuid1())\n",
    "    enable_trace:bool = True\n",
    "    end_session:bool = False\n",
    "    \n",
    "    creds=get_temporary_credentials(tenantId)\n",
    "    pool_agentResponse = bedrock_agent_runtime_client.invoke_agent(\n",
    "    sessionState={\n",
    "        'sessionAttributes': {\n",
    "            'tenantId': tenantId,\n",
    "            'accessKeyId': creds['accessKeyId'],\n",
    "            'secretAccessKey': creds['secretAccessKey'],\n",
    "            'sessionToken': creds['sessionToken']\n",
    "            \n",
    "            \n",
    "        }\n",
    "    },\n",
    "    inputText=task_input_text,\n",
    "    agentId=pool_agent_id,\n",
    "    agentAliasId=pool_agent_alias_id, \n",
    "    sessionId=session_id,\n",
    "    enableTrace=enable_trace, \n",
    "    endSession= end_session\n",
    "    )\n",
    "\n",
    "    logger.info(pprint.pprint(pool_agentResponse))\n",
    "    capture_metrics(pool_agentResponse, tenantId)\n",
    "    "
   ]
  },
  {
   "cell_type": "markdown",
   "id": "f261c4eb-c363-428d-8745-1d807f50a514",
   "metadata": {},
   "source": [
    "### Create data for tenant1"
   ]
  },
  {
   "cell_type": "code",
   "execution_count": null,
   "id": "d45b9a77-d8d7-4825-a623-166bb7ee73b1",
   "metadata": {},
   "outputs": [],
   "source": [
    "# invoke the agent API\n",
    "tenantId='tenant1'\n",
    "task_input_text = 'create two products product1 and product2 with prices 10 and 20 respectively' \n",
    "invoke_pool_agent(tenantId, task_input_text)"
   ]
  },
  {
   "cell_type": "markdown",
   "id": "32972454-1fb4-4216-ba73-7e1acec9abb5",
   "metadata": {},
   "source": [
    "### Create data for tenant2"
   ]
  },
  {
   "cell_type": "code",
   "execution_count": null,
   "id": "c5bc4343-4b5f-4551-8306-640ec723c8b9",
   "metadata": {},
   "outputs": [],
   "source": [
    "tenantId='tenant2'\n",
    "task_input_text = 'create two products product3 and product4 with prices 30 and 40 respectively'\n",
    "invoke_pool_agent(tenantId, task_input_text)"
   ]
  },
  {
   "cell_type": "markdown",
   "id": "b48a13bf-e068-41ae-86ec-5f70265c4b7e",
   "metadata": {},
   "source": [
    "### Get all products of tenant1"
   ]
  },
  {
   "cell_type": "code",
   "execution_count": null,
   "id": "9ed554aa-577d-4825-9a68-c26494158fff",
   "metadata": {},
   "outputs": [],
   "source": [
    "tenantId='tenant1'\n",
    "task_input_text = 'get all products' \n",
    "invoke_pool_agent(tenantId, task_input_text)"
   ]
  },
  {
   "cell_type": "code",
   "execution_count": null,
   "id": "3df9a35c-f07b-4640-b07b-686f9ee20e77",
   "metadata": {
    "tags": []
   },
   "outputs": [],
   "source": [
    "# %%time\n",
    "# event_stream = agentResponse['completion']\n",
    "# try:\n",
    "#     for event in event_stream:        \n",
    "#         if 'chunk' in event:\n",
    "#             data = event['chunk']['bytes']\n",
    "#             logger.info(f\"Final answer ->\\n{data.decode('utf8')}\")\n",
    "#             agent_answer = data.decode('utf8')\n",
    "#             end_event_received = True\n",
    "#             # End event indicates that the request finished successfully\n",
    "#         elif 'trace' in event:\n",
    "#             logger.info(json.dumps(event['trace'], indent=2))\n",
    "#         else:\n",
    "#             raise Exception(\"unexpected event.\", event)\n",
    "# except Exception as e:\n",
    "#     raise Exception(\"unexpected event.\", e)"
   ]
  },
  {
   "cell_type": "markdown",
   "id": "6f37fbee-060d-4d0a-811a-f96c55abc79d",
   "metadata": {},
   "source": [
    "# Silo Agent"
   ]
  },
  {
   "cell_type": "markdown",
   "id": "c726ed35-38a3-45e8-8ffc-f9399460509f",
   "metadata": {},
   "source": [
    "### Create Silo DynamoDB tables"
   ]
  },
  {
   "cell_type": "code",
   "execution_count": null,
   "id": "74faae4b-4591-4487-81af-87a6d8d0ac52",
   "metadata": {},
   "outputs": [],
   "source": [
    "silo_product_table = 'silo-product-table'\n",
    "silo_order_table = 'silo-order-table'\n",
    "\n",
    "\n",
    "silo_product_table_schema = [\n",
    "    {\n",
    "        'AttributeName': 'tenantId',  \n",
    "        'AttributeType': 'S',      \n",
    "    },\n",
    "    {\n",
    "        'AttributeName': 'productId',  \n",
    "        'AttributeType': 'S',           \n",
    "    },\n",
    "]\n",
    "\n",
    "silo_order_table_schema = [\n",
    "    {\n",
    "        'AttributeName': 'tenantId',  \n",
    "        'AttributeType': 'S',      \n",
    "    },\n",
    "    {\n",
    "        'AttributeName': 'orderId',  \n",
    "        'AttributeType': 'S',           \n",
    "    },\n",
    "]\n",
    "\n",
    "\n",
    "silo_product_key_schema = [\n",
    "    {\n",
    "        'AttributeName': 'tenantId',  \n",
    "        'KeyType': 'HASH',         \n",
    "    },\n",
    "    {\n",
    "        'AttributeName': 'productId', \n",
    "        'KeyType': 'RANGE',            \n",
    "    }\n",
    "]\n",
    "\n",
    "silo_order_key_schema = [\n",
    "    {\n",
    "        'AttributeName': 'tenantId',  \n",
    "        'KeyType': 'HASH',         \n",
    "    },\n",
    "    {\n",
    "        'AttributeName': 'orderId', \n",
    "        'KeyType': 'RANGE',            \n",
    "    }\n",
    "]\n",
    "\n",
    "\n",
    "provisioned_throughput = {\n",
    "    'ReadCapacityUnits': 5,   \n",
    "    'WriteCapacityUnits': 5   \n",
    "}\n",
    "\n",
    "silo_product_table_response = dynamodb_client.create_table(\n",
    "    TableName=silo_product_table,\n",
    "    AttributeDefinitions=silo_product_table_schema,\n",
    "    KeySchema=silo_product_key_schema,\n",
    "    ProvisionedThroughput=provisioned_throughput\n",
    ")\n",
    "\n",
    "silo_product_table_arn = silo_product_table_response['TableDescription']['TableArn']\n",
    "\n",
    "print(f\"Table {silo_product_table} created. Status: {silo_product_table_response['TableDescription']['TableArn']}\")\n",
    "\n",
    "silo_order_table_response = dynamodb_client.create_table(\n",
    "    TableName=silo_order_table,\n",
    "    AttributeDefinitions=silo_order_table_schema,\n",
    "    KeySchema=silo_order_key_schema,\n",
    "    ProvisionedThroughput=provisioned_throughput\n",
    ")\n",
    "\n",
    "silo_order_table_arn = silo_order_table_response['TableDescription']['TableArn']\n",
    "\n",
    "print(f\"Table {silo_order_table} created. Status: {silo_order_table_response['TableDescription']['TableArn']}\")\n"
   ]
  },
  {
   "cell_type": "markdown",
   "id": "24919b5c-2935-4abf-b24d-50fba61d847a",
   "metadata": {},
   "source": [
    "### Create Silo Lambda function for Action Group"
   ]
  },
  {
   "cell_type": "code",
   "execution_count": null,
   "id": "7c0285bc-8fc6-41ea-a269-347dbb495394",
   "metadata": {},
   "outputs": [],
   "source": [
    "# Create IAM Role for the Lambda function\n",
    "try:\n",
    "    silo_assume_role_policy_document = {\n",
    "        \"Version\": \"2012-10-17\",\n",
    "        \"Statement\": [\n",
    "            {\n",
    "                \"Effect\": \"Allow\",\n",
    "                \"Action\": \"bedrock:InvokeModel\",\n",
    "                \"Principal\": {\n",
    "                    \"Service\": \"lambda.amazonaws.com\"\n",
    "                },\n",
    "                \"Action\": \"sts:AssumeRole\"\n",
    "            }\n",
    "        ]\n",
    "    }\n",
    "\n",
    "    silo_assume_role_policy_document_json = json.dumps(silo_assume_role_policy_document)\n",
    "\n",
    "    silo_agent_lambda_iam_role = iam_client.create_role(\n",
    "        RoleName=silo_agent_lambda_role_name,\n",
    "        AssumeRolePolicyDocument=silo_assume_role_policy_document_json\n",
    "    )\n",
    "\n",
    "    # Pause to make sure role is created\n",
    "    time.sleep(10)\n",
    "except:\n",
    "    silo_agent_lambda_iam_role = iam_client.get_role(RoleName=silo_agent_lambda_role_name)\n",
    "\n",
    "iam_client.attach_role_policy(\n",
    "    RoleName=silo_agent_lambda_role_name,\n",
    "    PolicyArn='arn:aws:iam::aws:policy/service-role/AWSLambdaBasicExecutionRole'\n",
    ")\n",
    "\n",
    "dynamodb_policies_statement = {\n",
    "    \"Version\": \"2012-10-17\",\n",
    "    \"Statement\": [\n",
    "    {\n",
    "        \"Sid\": \"QueryDynamoDB\",\n",
    "        \"Effect\": \"Allow\",\n",
    "        \"Action\": [\n",
    "            \"dynamodb:PutItem\",\n",
    "            \"dynamodb:GetItem\",\n",
    "            \"dynamodb:Query\"\n",
    "        ],\n",
    "        \"Resource\": [\n",
    "            f\"arn:aws:dynamodb:{region}:{account_id}:table/silo-product-table\",\n",
    "            f\"arn:aws:dynamodb:{region}:{account_id}:table/silo-order-table\"\n",
    "            \n",
    "        ]\n",
    "    }\n",
    "  ]\n",
    "}\n",
    "\n",
    "silo_dynamodb_policy = iam_client.create_policy(\n",
    "    PolicyName='silo_dynamodb_policy',\n",
    "    PolicyDocument=json.dumps(dynamodb_policies_statement)\n",
    ")\n",
    "\n",
    "time.sleep(10)\n",
    "\n",
    "iam_client.attach_role_policy(\n",
    "    RoleName=silo_agent_lambda_role_name,\n",
    "    PolicyArn=silo_dynamodb_policy['Policy']['Arn']\n",
    ")"
   ]
  },
  {
   "cell_type": "code",
   "execution_count": null,
   "id": "77fb228c-12ab-4346-8256-a61859097cd0",
   "metadata": {},
   "outputs": [],
   "source": [
    "# Package up the lambda function code\n",
    "s = BytesIO()\n",
    "z = zipfile.ZipFile(s, 'w')\n",
    "z.write(silo_agent_lambda_code_path)\n",
    "z.close()\n",
    "zip_content = s.getvalue()\n",
    "\n",
    "# Create Lambda Function\n",
    "silo_lambda_function = lambda_client.create_function(\n",
    "    FunctionName=silo_agent_lambda_name,\n",
    "    Runtime='python3.12',\n",
    "    Timeout=180,\n",
    "    Role=silo_agent_lambda_iam_role['Role']['Arn'],\n",
    "    Code={'ZipFile': zip_content},\n",
    "    Handler='silo_agent_lambda_function.lambda_handler'\n",
    ")"
   ]
  },
  {
   "cell_type": "markdown",
   "id": "c7b172a1-f4bd-4107-b478-b7092e611469",
   "metadata": {},
   "source": [
    "### Create Agent"
   ]
  },
  {
   "cell_type": "code",
   "execution_count": null,
   "id": "b67c811e-18ab-407d-ab15-d83b22113a0b",
   "metadata": {},
   "outputs": [],
   "source": [
    "silo_assume_role_policy_document = {\n",
    "    \"Version\": \"2012-10-17\",\n",
    "    \"Statement\": [{\n",
    "          \"Effect\": \"Allow\",\n",
    "          \"Principal\": {\n",
    "            \"Service\": \"bedrock.amazonaws.com\"\n",
    "          },\n",
    "          \"Action\": \"sts:AssumeRole\"\n",
    "    }]\n",
    "}\n",
    "\n",
    "silo_agent_role = iam_client.create_role(\n",
    "    RoleName=silo_agent_role_name,\n",
    "    AssumeRolePolicyDocument=json.dumps(silo_assume_role_policy_document)\n",
    ")\n",
    "\n",
    "\n",
    "time.sleep(10)\n",
    "    \n",
    "iam_client.attach_role_policy(\n",
    "    RoleName=silo_agent_role_name,\n",
    "    PolicyArn=agent_bedrock_policy['Policy']['Arn']\n",
    ")\n",
    "\n",
    "iam_client.attach_role_policy(\n",
    "    RoleName=silo_agent_role_name,\n",
    "    PolicyArn=agent_s3_schema_policy['Policy']['Arn']\n",
    ")"
   ]
  },
  {
   "cell_type": "markdown",
   "id": "6d4535c2-8759-4349-94b5-c1b97462fc5b",
   "metadata": {},
   "source": [
    "#### Creating Silo Agent"
   ]
  },
  {
   "cell_type": "code",
   "execution_count": null,
   "id": "bd910050-5227-423a-94c3-27fd1e70ec63",
   "metadata": {},
   "outputs": [],
   "source": [
    "# Create Agent\n",
    "\n",
    "\n",
    "silo_agent_instruction = \"\"\"\n",
    "You are an agent that helps customers to create products and orders. You can\n",
    "1/create a product with provided product name and product price\n",
    "2/get all products details\n",
    "3/get a product detail using product id provided by the customer\n",
    "4/create a order for a product using product id and quantity provided by the customer\n",
    "5/get all orders details\n",
    "If no clear instruction are provided, if an customer asks about your functionality, provide guidance in natural language \n",
    "and do not include function names on the output.\n",
    "\"\"\"\n",
    "\n",
    "silo_agent_response = bedrock_agent_client.create_agent(\n",
    "    agentName=silo_agent_name,\n",
    "    agentResourceRoleArn=silo_agent_role['Role']['Arn'],\n",
    "    description=\"Agent for handling app requests.\",\n",
    "    idleSessionTTLInSeconds=1800,\n",
    "    foundationModel=\"anthropic.claude-v2:1\",\n",
    "    instruction=silo_agent_instruction,\n",
    ")"
   ]
  },
  {
   "cell_type": "code",
   "execution_count": null,
   "id": "3a905ddb-9e47-455c-980d-e5ae147daf7c",
   "metadata": {},
   "outputs": [],
   "source": [
    "silo_agent_id = silo_agent_response['agent']['agentId']\n",
    "silo_agent_id"
   ]
  },
  {
   "cell_type": "markdown",
   "id": "68027576-4bff-4396-8d2b-58053cd6d273",
   "metadata": {},
   "source": [
    "### Create Agent Action Group\n"
   ]
  },
  {
   "cell_type": "code",
   "execution_count": null,
   "id": "ff6c189f-0078-430f-974f-84970cd5d7d8",
   "metadata": {},
   "outputs": [],
   "source": [
    "# Pause to make sure agent is created\n",
    "time.sleep(30)\n",
    "# Now, we can configure and create an action group here:\n",
    "silo_agent_action_group_response = bedrock_agent_client.create_agent_action_group(\n",
    "    agentId=silo_agent_id,\n",
    "    agentVersion='DRAFT',\n",
    "    actionGroupExecutor={\n",
    "        'lambda': silo_lambda_function['FunctionArn']\n",
    "    },\n",
    "    actionGroupName='SiloAppServicesActionGroup', \n",
    "    apiSchema={\n",
    "        's3': {\n",
    "            's3BucketName': bucket_name,\n",
    "            's3ObjectKey': bucket_key\n",
    "        }\n",
    "    },\n",
    "    description='Actions for creating product, get products, get a product, create order and get orders'\n",
    ")"
   ]
  },
  {
   "cell_type": "code",
   "execution_count": null,
   "id": "53527b9e-d195-4d2f-8842-0d32c7fdc6c4",
   "metadata": {},
   "outputs": [],
   "source": [
    "silo_agent_action_group_response"
   ]
  },
  {
   "cell_type": "markdown",
   "id": "3c7d257b-fb3e-4e41-a777-a19e56af93a7",
   "metadata": {},
   "source": [
    "### Allowing Agent to invoke Action Group Lambda\n"
   ]
  },
  {
   "cell_type": "code",
   "execution_count": null,
   "id": "323ec8b7-8595-4a2b-837d-2f4c8aa1fed1",
   "metadata": {},
   "outputs": [],
   "source": [
    "# Create allow invoke permission on lambda\n",
    "response = lambda_client.add_permission(\n",
    "    FunctionName=silo_agent_lambda_name,\n",
    "    StatementId='allow_bedrock',\n",
    "    Action='lambda:InvokeFunction',\n",
    "    Principal='bedrock.amazonaws.com',\n",
    "    SourceArn=f\"arn:aws:bedrock:{region}:{account_id}:agent/{silo_agent_id}\",\n",
    ")"
   ]
  },
  {
   "cell_type": "markdown",
   "id": "9f1b72d6-8c9a-48a7-94bb-42e6f8145fd4",
   "metadata": {},
   "source": [
    "### Preparing Agent\n"
   ]
  },
  {
   "cell_type": "code",
   "execution_count": null,
   "id": "2760379a-b205-4e25-b85f-d9c2b2d1a73b",
   "metadata": {},
   "outputs": [],
   "source": [
    "silo_agent_prepare = bedrock_agent_client.prepare_agent(agentId=silo_agent_id)\n",
    "silo_agent_prepare"
   ]
  },
  {
   "cell_type": "markdown",
   "id": "585231ca-8c0e-4baf-8016-617568ae1325",
   "metadata": {},
   "source": [
    "### Create Agent alias\n"
   ]
  },
  {
   "cell_type": "code",
   "execution_count": null,
   "id": "2f0f2bd7-0d34-45f2-ac41-8a55afb830ac",
   "metadata": {},
   "outputs": [],
   "source": [
    "# Pause to make sure agent is prepared\n",
    "time.sleep(30)\n",
    "silo_agent_alias = bedrock_agent_client.create_agent_alias(\n",
    "    agentId=silo_agent_id,\n",
    "    agentAliasName=silo_agent_alias_name\n",
    ")"
   ]
  },
  {
   "cell_type": "code",
   "execution_count": null,
   "id": "0ac9966f-b717-40e4-adb2-9de542ab820f",
   "metadata": {},
   "outputs": [],
   "source": [
    "silo_agent_alias"
   ]
  },
  {
   "cell_type": "markdown",
   "id": "72bf6009-5ded-474d-8565-21dbd8724900",
   "metadata": {},
   "source": [
    "## Invoke Agent\n"
   ]
  },
  {
   "cell_type": "code",
   "execution_count": null,
   "id": "61829377-25c8-474c-8f28-e069d9b1b12b",
   "metadata": {},
   "outputs": [],
   "source": [
    "def invoke_silo_agent(tenantId, task_input_text):\n",
    "    silo_agent_alias_id = silo_agent_alias['agentAlias']['agentAliasId']\n",
    "\n",
    "    ## create a random id for session initiator id\n",
    "    session_id:str = str(uuid.uuid1())\n",
    "    enable_trace:bool = True\n",
    "    end_session:bool = False\n",
    "    \n",
    "    silo_agentResponse = bedrock_agent_runtime_client.invoke_agent(\n",
    "    sessionState={\n",
    "        'sessionAttributes': {\n",
    "            'tenantId': tenantId,\n",
    "            \n",
    "        }\n",
    "    },\n",
    "    inputText=task_input_text,\n",
    "    agentId=silo_agent_id,\n",
    "    agentAliasId=silo_agent_alias_id, \n",
    "    sessionId=session_id,\n",
    "    enableTrace=enable_trace, \n",
    "    endSession= end_session\n",
    "    )\n",
    "\n",
    "    logger.info(pprint.pprint(silo_agentResponse))\n",
    "    capture_metrics(silo_agentResponse, tenantId)\n",
    "    "
   ]
  },
  {
   "cell_type": "markdown",
   "id": "5239f0f0-aaca-4832-a0b8-2696c5257368",
   "metadata": {},
   "source": [
    "### Create data for tenant3"
   ]
  },
  {
   "cell_type": "code",
   "execution_count": null,
   "id": "8f48c074-0355-4338-a70c-aa903f016bd5",
   "metadata": {},
   "outputs": [],
   "source": [
    "# invoke the agent API\n",
    "tenantId='tenant3'\n",
    "task_input_text = 'create two products product5 and product6 with prices 50 and 60 respectively' \n",
    "invoke_silo_agent(tenantId, task_input_text)"
   ]
  },
  {
   "cell_type": "markdown",
   "id": "cfa15898-25ee-44cc-a46a-83a6c51642e4",
   "metadata": {},
   "source": [
    "### Get all products of tenant3"
   ]
  },
  {
   "cell_type": "code",
   "execution_count": null,
   "id": "9f1d34fc-43b8-4dd7-974a-7bea2e547fdf",
   "metadata": {},
   "outputs": [],
   "source": [
    "tenantId='tenant3'\n",
    "task_input_text = 'get all products details and display' \n",
    "invoke_silo_agent(tenantId, task_input_text)"
   ]
  },
  {
   "cell_type": "markdown",
   "id": "47ce5c54-3e54-40fc-aa10-d7ec785ea832",
   "metadata": {},
   "source": [
    "## Thank You\n",
    "Note: Please delete resources created through this notebook if you don't want to incur any costs.\n"
   ]
  },
  {
   "cell_type": "code",
   "execution_count": null,
   "id": "1c46e194-18ff-4feb-a162-08c507bb64f9",
   "metadata": {},
   "outputs": [],
   "source": []
  }
 ],
 "metadata": {
  "availableInstances": [
   {
    "_defaultOrder": 0,
    "_isFastLaunch": true,
    "category": "General purpose",
    "gpuNum": 0,
    "hideHardwareSpecs": false,
    "memoryGiB": 4,
    "name": "ml.t3.medium",
    "vcpuNum": 2
   },
   {
    "_defaultOrder": 1,
    "_isFastLaunch": false,
    "category": "General purpose",
    "gpuNum": 0,
    "hideHardwareSpecs": false,
    "memoryGiB": 8,
    "name": "ml.t3.large",
    "vcpuNum": 2
   },
   {
    "_defaultOrder": 2,
    "_isFastLaunch": false,
    "category": "General purpose",
    "gpuNum": 0,
    "hideHardwareSpecs": false,
    "memoryGiB": 16,
    "name": "ml.t3.xlarge",
    "vcpuNum": 4
   },
   {
    "_defaultOrder": 3,
    "_isFastLaunch": false,
    "category": "General purpose",
    "gpuNum": 0,
    "hideHardwareSpecs": false,
    "memoryGiB": 32,
    "name": "ml.t3.2xlarge",
    "vcpuNum": 8
   },
   {
    "_defaultOrder": 4,
    "_isFastLaunch": true,
    "category": "General purpose",
    "gpuNum": 0,
    "hideHardwareSpecs": false,
    "memoryGiB": 8,
    "name": "ml.m5.large",
    "vcpuNum": 2
   },
   {
    "_defaultOrder": 5,
    "_isFastLaunch": false,
    "category": "General purpose",
    "gpuNum": 0,
    "hideHardwareSpecs": false,
    "memoryGiB": 16,
    "name": "ml.m5.xlarge",
    "vcpuNum": 4
   },
   {
    "_defaultOrder": 6,
    "_isFastLaunch": false,
    "category": "General purpose",
    "gpuNum": 0,
    "hideHardwareSpecs": false,
    "memoryGiB": 32,
    "name": "ml.m5.2xlarge",
    "vcpuNum": 8
   },
   {
    "_defaultOrder": 7,
    "_isFastLaunch": false,
    "category": "General purpose",
    "gpuNum": 0,
    "hideHardwareSpecs": false,
    "memoryGiB": 64,
    "name": "ml.m5.4xlarge",
    "vcpuNum": 16
   },
   {
    "_defaultOrder": 8,
    "_isFastLaunch": false,
    "category": "General purpose",
    "gpuNum": 0,
    "hideHardwareSpecs": false,
    "memoryGiB": 128,
    "name": "ml.m5.8xlarge",
    "vcpuNum": 32
   },
   {
    "_defaultOrder": 9,
    "_isFastLaunch": false,
    "category": "General purpose",
    "gpuNum": 0,
    "hideHardwareSpecs": false,
    "memoryGiB": 192,
    "name": "ml.m5.12xlarge",
    "vcpuNum": 48
   },
   {
    "_defaultOrder": 10,
    "_isFastLaunch": false,
    "category": "General purpose",
    "gpuNum": 0,
    "hideHardwareSpecs": false,
    "memoryGiB": 256,
    "name": "ml.m5.16xlarge",
    "vcpuNum": 64
   },
   {
    "_defaultOrder": 11,
    "_isFastLaunch": false,
    "category": "General purpose",
    "gpuNum": 0,
    "hideHardwareSpecs": false,
    "memoryGiB": 384,
    "name": "ml.m5.24xlarge",
    "vcpuNum": 96
   },
   {
    "_defaultOrder": 12,
    "_isFastLaunch": false,
    "category": "General purpose",
    "gpuNum": 0,
    "hideHardwareSpecs": false,
    "memoryGiB": 8,
    "name": "ml.m5d.large",
    "vcpuNum": 2
   },
   {
    "_defaultOrder": 13,
    "_isFastLaunch": false,
    "category": "General purpose",
    "gpuNum": 0,
    "hideHardwareSpecs": false,
    "memoryGiB": 16,
    "name": "ml.m5d.xlarge",
    "vcpuNum": 4
   },
   {
    "_defaultOrder": 14,
    "_isFastLaunch": false,
    "category": "General purpose",
    "gpuNum": 0,
    "hideHardwareSpecs": false,
    "memoryGiB": 32,
    "name": "ml.m5d.2xlarge",
    "vcpuNum": 8
   },
   {
    "_defaultOrder": 15,
    "_isFastLaunch": false,
    "category": "General purpose",
    "gpuNum": 0,
    "hideHardwareSpecs": false,
    "memoryGiB": 64,
    "name": "ml.m5d.4xlarge",
    "vcpuNum": 16
   },
   {
    "_defaultOrder": 16,
    "_isFastLaunch": false,
    "category": "General purpose",
    "gpuNum": 0,
    "hideHardwareSpecs": false,
    "memoryGiB": 128,
    "name": "ml.m5d.8xlarge",
    "vcpuNum": 32
   },
   {
    "_defaultOrder": 17,
    "_isFastLaunch": false,
    "category": "General purpose",
    "gpuNum": 0,
    "hideHardwareSpecs": false,
    "memoryGiB": 192,
    "name": "ml.m5d.12xlarge",
    "vcpuNum": 48
   },
   {
    "_defaultOrder": 18,
    "_isFastLaunch": false,
    "category": "General purpose",
    "gpuNum": 0,
    "hideHardwareSpecs": false,
    "memoryGiB": 256,
    "name": "ml.m5d.16xlarge",
    "vcpuNum": 64
   },
   {
    "_defaultOrder": 19,
    "_isFastLaunch": false,
    "category": "General purpose",
    "gpuNum": 0,
    "hideHardwareSpecs": false,
    "memoryGiB": 384,
    "name": "ml.m5d.24xlarge",
    "vcpuNum": 96
   },
   {
    "_defaultOrder": 20,
    "_isFastLaunch": false,
    "category": "General purpose",
    "gpuNum": 0,
    "hideHardwareSpecs": true,
    "memoryGiB": 0,
    "name": "ml.geospatial.interactive",
    "supportedImageNames": [
     "sagemaker-geospatial-v1-0"
    ],
    "vcpuNum": 0
   },
   {
    "_defaultOrder": 21,
    "_isFastLaunch": true,
    "category": "Compute optimized",
    "gpuNum": 0,
    "hideHardwareSpecs": false,
    "memoryGiB": 4,
    "name": "ml.c5.large",
    "vcpuNum": 2
   },
   {
    "_defaultOrder": 22,
    "_isFastLaunch": false,
    "category": "Compute optimized",
    "gpuNum": 0,
    "hideHardwareSpecs": false,
    "memoryGiB": 8,
    "name": "ml.c5.xlarge",
    "vcpuNum": 4
   },
   {
    "_defaultOrder": 23,
    "_isFastLaunch": false,
    "category": "Compute optimized",
    "gpuNum": 0,
    "hideHardwareSpecs": false,
    "memoryGiB": 16,
    "name": "ml.c5.2xlarge",
    "vcpuNum": 8
   },
   {
    "_defaultOrder": 24,
    "_isFastLaunch": false,
    "category": "Compute optimized",
    "gpuNum": 0,
    "hideHardwareSpecs": false,
    "memoryGiB": 32,
    "name": "ml.c5.4xlarge",
    "vcpuNum": 16
   },
   {
    "_defaultOrder": 25,
    "_isFastLaunch": false,
    "category": "Compute optimized",
    "gpuNum": 0,
    "hideHardwareSpecs": false,
    "memoryGiB": 72,
    "name": "ml.c5.9xlarge",
    "vcpuNum": 36
   },
   {
    "_defaultOrder": 26,
    "_isFastLaunch": false,
    "category": "Compute optimized",
    "gpuNum": 0,
    "hideHardwareSpecs": false,
    "memoryGiB": 96,
    "name": "ml.c5.12xlarge",
    "vcpuNum": 48
   },
   {
    "_defaultOrder": 27,
    "_isFastLaunch": false,
    "category": "Compute optimized",
    "gpuNum": 0,
    "hideHardwareSpecs": false,
    "memoryGiB": 144,
    "name": "ml.c5.18xlarge",
    "vcpuNum": 72
   },
   {
    "_defaultOrder": 28,
    "_isFastLaunch": false,
    "category": "Compute optimized",
    "gpuNum": 0,
    "hideHardwareSpecs": false,
    "memoryGiB": 192,
    "name": "ml.c5.24xlarge",
    "vcpuNum": 96
   },
   {
    "_defaultOrder": 29,
    "_isFastLaunch": true,
    "category": "Accelerated computing",
    "gpuNum": 1,
    "hideHardwareSpecs": false,
    "memoryGiB": 16,
    "name": "ml.g4dn.xlarge",
    "vcpuNum": 4
   },
   {
    "_defaultOrder": 30,
    "_isFastLaunch": false,
    "category": "Accelerated computing",
    "gpuNum": 1,
    "hideHardwareSpecs": false,
    "memoryGiB": 32,
    "name": "ml.g4dn.2xlarge",
    "vcpuNum": 8
   },
   {
    "_defaultOrder": 31,
    "_isFastLaunch": false,
    "category": "Accelerated computing",
    "gpuNum": 1,
    "hideHardwareSpecs": false,
    "memoryGiB": 64,
    "name": "ml.g4dn.4xlarge",
    "vcpuNum": 16
   },
   {
    "_defaultOrder": 32,
    "_isFastLaunch": false,
    "category": "Accelerated computing",
    "gpuNum": 1,
    "hideHardwareSpecs": false,
    "memoryGiB": 128,
    "name": "ml.g4dn.8xlarge",
    "vcpuNum": 32
   },
   {
    "_defaultOrder": 33,
    "_isFastLaunch": false,
    "category": "Accelerated computing",
    "gpuNum": 4,
    "hideHardwareSpecs": false,
    "memoryGiB": 192,
    "name": "ml.g4dn.12xlarge",
    "vcpuNum": 48
   },
   {
    "_defaultOrder": 34,
    "_isFastLaunch": false,
    "category": "Accelerated computing",
    "gpuNum": 1,
    "hideHardwareSpecs": false,
    "memoryGiB": 256,
    "name": "ml.g4dn.16xlarge",
    "vcpuNum": 64
   },
   {
    "_defaultOrder": 35,
    "_isFastLaunch": false,
    "category": "Accelerated computing",
    "gpuNum": 1,
    "hideHardwareSpecs": false,
    "memoryGiB": 61,
    "name": "ml.p3.2xlarge",
    "vcpuNum": 8
   },
   {
    "_defaultOrder": 36,
    "_isFastLaunch": false,
    "category": "Accelerated computing",
    "gpuNum": 4,
    "hideHardwareSpecs": false,
    "memoryGiB": 244,
    "name": "ml.p3.8xlarge",
    "vcpuNum": 32
   },
   {
    "_defaultOrder": 37,
    "_isFastLaunch": false,
    "category": "Accelerated computing",
    "gpuNum": 8,
    "hideHardwareSpecs": false,
    "memoryGiB": 488,
    "name": "ml.p3.16xlarge",
    "vcpuNum": 64
   },
   {
    "_defaultOrder": 38,
    "_isFastLaunch": false,
    "category": "Accelerated computing",
    "gpuNum": 8,
    "hideHardwareSpecs": false,
    "memoryGiB": 768,
    "name": "ml.p3dn.24xlarge",
    "vcpuNum": 96
   },
   {
    "_defaultOrder": 39,
    "_isFastLaunch": false,
    "category": "Memory Optimized",
    "gpuNum": 0,
    "hideHardwareSpecs": false,
    "memoryGiB": 16,
    "name": "ml.r5.large",
    "vcpuNum": 2
   },
   {
    "_defaultOrder": 40,
    "_isFastLaunch": false,
    "category": "Memory Optimized",
    "gpuNum": 0,
    "hideHardwareSpecs": false,
    "memoryGiB": 32,
    "name": "ml.r5.xlarge",
    "vcpuNum": 4
   },
   {
    "_defaultOrder": 41,
    "_isFastLaunch": false,
    "category": "Memory Optimized",
    "gpuNum": 0,
    "hideHardwareSpecs": false,
    "memoryGiB": 64,
    "name": "ml.r5.2xlarge",
    "vcpuNum": 8
   },
   {
    "_defaultOrder": 42,
    "_isFastLaunch": false,
    "category": "Memory Optimized",
    "gpuNum": 0,
    "hideHardwareSpecs": false,
    "memoryGiB": 128,
    "name": "ml.r5.4xlarge",
    "vcpuNum": 16
   },
   {
    "_defaultOrder": 43,
    "_isFastLaunch": false,
    "category": "Memory Optimized",
    "gpuNum": 0,
    "hideHardwareSpecs": false,
    "memoryGiB": 256,
    "name": "ml.r5.8xlarge",
    "vcpuNum": 32
   },
   {
    "_defaultOrder": 44,
    "_isFastLaunch": false,
    "category": "Memory Optimized",
    "gpuNum": 0,
    "hideHardwareSpecs": false,
    "memoryGiB": 384,
    "name": "ml.r5.12xlarge",
    "vcpuNum": 48
   },
   {
    "_defaultOrder": 45,
    "_isFastLaunch": false,
    "category": "Memory Optimized",
    "gpuNum": 0,
    "hideHardwareSpecs": false,
    "memoryGiB": 512,
    "name": "ml.r5.16xlarge",
    "vcpuNum": 64
   },
   {
    "_defaultOrder": 46,
    "_isFastLaunch": false,
    "category": "Memory Optimized",
    "gpuNum": 0,
    "hideHardwareSpecs": false,
    "memoryGiB": 768,
    "name": "ml.r5.24xlarge",
    "vcpuNum": 96
   },
   {
    "_defaultOrder": 47,
    "_isFastLaunch": false,
    "category": "Accelerated computing",
    "gpuNum": 1,
    "hideHardwareSpecs": false,
    "memoryGiB": 16,
    "name": "ml.g5.xlarge",
    "vcpuNum": 4
   },
   {
    "_defaultOrder": 48,
    "_isFastLaunch": false,
    "category": "Accelerated computing",
    "gpuNum": 1,
    "hideHardwareSpecs": false,
    "memoryGiB": 32,
    "name": "ml.g5.2xlarge",
    "vcpuNum": 8
   },
   {
    "_defaultOrder": 49,
    "_isFastLaunch": false,
    "category": "Accelerated computing",
    "gpuNum": 1,
    "hideHardwareSpecs": false,
    "memoryGiB": 64,
    "name": "ml.g5.4xlarge",
    "vcpuNum": 16
   },
   {
    "_defaultOrder": 50,
    "_isFastLaunch": false,
    "category": "Accelerated computing",
    "gpuNum": 1,
    "hideHardwareSpecs": false,
    "memoryGiB": 128,
    "name": "ml.g5.8xlarge",
    "vcpuNum": 32
   },
   {
    "_defaultOrder": 51,
    "_isFastLaunch": false,
    "category": "Accelerated computing",
    "gpuNum": 1,
    "hideHardwareSpecs": false,
    "memoryGiB": 256,
    "name": "ml.g5.16xlarge",
    "vcpuNum": 64
   },
   {
    "_defaultOrder": 52,
    "_isFastLaunch": false,
    "category": "Accelerated computing",
    "gpuNum": 4,
    "hideHardwareSpecs": false,
    "memoryGiB": 192,
    "name": "ml.g5.12xlarge",
    "vcpuNum": 48
   },
   {
    "_defaultOrder": 53,
    "_isFastLaunch": false,
    "category": "Accelerated computing",
    "gpuNum": 4,
    "hideHardwareSpecs": false,
    "memoryGiB": 384,
    "name": "ml.g5.24xlarge",
    "vcpuNum": 96
   },
   {
    "_defaultOrder": 54,
    "_isFastLaunch": false,
    "category": "Accelerated computing",
    "gpuNum": 8,
    "hideHardwareSpecs": false,
    "memoryGiB": 768,
    "name": "ml.g5.48xlarge",
    "vcpuNum": 192
   },
   {
    "_defaultOrder": 55,
    "_isFastLaunch": false,
    "category": "Accelerated computing",
    "gpuNum": 8,
    "hideHardwareSpecs": false,
    "memoryGiB": 1152,
    "name": "ml.p4d.24xlarge",
    "vcpuNum": 96
   },
   {
    "_defaultOrder": 56,
    "_isFastLaunch": false,
    "category": "Accelerated computing",
    "gpuNum": 8,
    "hideHardwareSpecs": false,
    "memoryGiB": 1152,
    "name": "ml.p4de.24xlarge",
    "vcpuNum": 96
   },
   {
    "_defaultOrder": 57,
    "_isFastLaunch": false,
    "category": "Accelerated computing",
    "gpuNum": 0,
    "hideHardwareSpecs": false,
    "memoryGiB": 32,
    "name": "ml.trn1.2xlarge",
    "vcpuNum": 8
   },
   {
    "_defaultOrder": 58,
    "_isFastLaunch": false,
    "category": "Accelerated computing",
    "gpuNum": 0,
    "hideHardwareSpecs": false,
    "memoryGiB": 512,
    "name": "ml.trn1.32xlarge",
    "vcpuNum": 128
   },
   {
    "_defaultOrder": 59,
    "_isFastLaunch": false,
    "category": "Accelerated computing",
    "gpuNum": 0,
    "hideHardwareSpecs": false,
    "memoryGiB": 512,
    "name": "ml.trn1n.32xlarge",
    "vcpuNum": 128
   }
  ],
  "kernelspec": {
   "display_name": "Python 3 (ipykernel)",
   "language": "python",
   "name": "python3"
  },
  "language_info": {
   "codemirror_mode": {
    "name": "ipython",
    "version": 3
   },
   "file_extension": ".py",
   "mimetype": "text/x-python",
   "name": "python",
   "nbconvert_exporter": "python",
   "pygments_lexer": "ipython3",
   "version": "3.11.10"
  }
 },
 "nbformat": 4,
 "nbformat_minor": 5
}
